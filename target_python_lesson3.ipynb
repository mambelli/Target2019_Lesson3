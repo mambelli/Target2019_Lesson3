{
 "cells": [
  {
   "cell_type": "markdown",
   "metadata": {},
   "source": [
    "# Target Python Lesson - Part 3\n",
    "###### By: Thomas Hein, Marco Mambelli\n",
    "---\n",
    "\n",
    "This tutorial includes a brief explanation of what a class is an how you  can use it.\n",
    "Object Oriented programming and Classes are commonly refereed to as an advanced topic and the subject of complete courses like [OOP on Codecademy](https://www.codecademy.com/learn/learn-intermediate-python-3/modules/int-python-object-oriented-programming) or on [OOP in Python on freeCodeCamp](https://www.freecodecamp.org/news/crash-course-object-oriented-programming-in-python/) or [Week 8 of Harward's CS50](https://cs50.harvard.edu/python/2022/weeks/8/).\n",
    "This introduction is by no mean exhaustive or a replacement of the above courses, but will allow you to undestand the basics of this Python capability.\n",
    "It may seem a little confusing at first but it's not complicated. Read each section step by step, that's kind of important if you're new to them.\n",
    "\n",
    "# 1: Object Oriented Programming\n",
    "\n",
    "### 1.1: What is Class?\n",
    "\n",
    "> A prototype for an object that defines a set of attributes that characterize any object of the class. The attributes are data members (class variables and instance variables) and methods (functions operating on the object), accessed via dot notation.\n",
    "\n",
    "Ah, I'm sure you now know what a class is now, Part 3.1 done...\n",
    "\n",
    "Put aside the definition above, read this:\n",
    "\n",
    "1. A class contains functions (called methods) and variables (called data attributes) as one big bundle.\n",
    "1. You can have some methods that can be invoked outside of the class definition (public) and some that you can access only internally within the code of the class (private).\n",
    "1. Same with data attributes, some can be used outside the class (public attributes) and some only within the class (private attributes).\n",
    "1. The class is like a mold to create many variables (called objects), via instantiation `myvar = MyClassName()`. All objects have the same attributes and methods defined in the class, referred using dot notation (`myvar.attribute_name`, `myvar.method_name()`).   \n",
    "1. When defining methods (aka. functions), add the variable `self` as the first parameter e.g. `def addNumbers(self, num1, num2):`. This will be the object itself.\n",
    "1. When calling methods, e.g. `my_object.addNumbers(1,2)` Python will add the `self` parameter automatically using the object.\n",
    "1. Within each method of the class, you can refer the class's variables by using `self.variable_name_goes_here` and methods by using `self.function_name_goes_here()`.\n",
    "\n",
    "The last three lines refer to regular methods, aka instance methods. There are also special methods, static or class methods that behave differently. If you want to learn more about static and class methods, you can read [here](https://realpython.com/instance-class-and-static-methods-demystified/) or [this reference documentation](https://python-reference.readthedocs.io/en/latest/docs/functions/staticmethod.html), but first complete this section."
   ]
  },
  {
   "cell_type": "code",
   "execution_count": null,
   "metadata": {},
   "outputs": [],
   "source": [
    "class MyClassName:\n",
    "    pass # Pass means \"Skip this line Python\"\n",
    "\n",
    "# To get an object of the class, use this\n",
    "my_object = MyClassName()"
   ]
  },
  {
   "cell_type": "markdown",
   "metadata": {},
   "source": [
    "Very eventful (if you see nothing appear when you run it, that's a good thing)\n",
    "\n",
    "So, you create objects from classes. Think of classes as big templates. The template includes stuff like variables and functions. You create an object off of the class to start using its methods and variables."
   ]
  },
  {
   "cell_type": "code",
   "execution_count": null,
   "metadata": {},
   "outputs": [],
   "source": [
    "class MyClass:\n",
    "    def say_hi(self): # Remember, use self as the first argument\n",
    "        print(\"Hi\")\n",
    "\n",
    "# Create our object first\n",
    "an_object_of_the_class = MyClass()\n",
    "\n",
    "# And call the function\n",
    "an_object_of_the_class.say_hi()  # Yep, it does print \"Hi\""
   ]
  },
  {
   "cell_type": "markdown",
   "metadata": {},
   "source": [
    "Let's try and give the function `sayHi` in the class some arguments,"
   ]
  },
  {
   "cell_type": "code",
   "execution_count": null,
   "metadata": {},
   "outputs": [],
   "source": [
    "class MyClass:\n",
    "    def say_what_i_want(self, printingtext): # Remember, use self as the first argument\n",
    "        print(printingtext)\n",
    "\n",
    "# Create our object first\n",
    "an_object_of_the_class = MyClass()\n",
    "\n",
    "# And call the function\n",
    "an_object_of_the_class.say_what_i_want(\"This is what will end up in the printingtext variable\")\n",
    "# See how the first argument went after self in the function?"
   ]
  },
  {
   "cell_type": "markdown",
   "metadata": {},
   "source": [
    "Let's say we wanted to do something whenever an object is created. We can use a a special method called constructor, `__init__` (two underscores on each side) as this function name and then in our code block, do whatever we want whenever an object is created. Let's try by adding a variable by default to the class."
   ]
  },
  {
   "cell_type": "code",
   "execution_count": null,
   "metadata": {},
   "outputs": [],
   "source": [
    "class YetAnotherClass:\n",
    "    def __init__(self):\n",
    "        self.my_variable_name = \"Hey\"\n",
    "        print(\"I run right when an object is created from YetAnotherClass\")\n",
    "\n",
    "my_object = YetAnotherClass()\n",
    "\n",
    "input(\"Click Enter\")  # This is used to pause the script\n",
    "\n",
    "print(my_object.my_variable_name)"
   ]
  },
  {
   "cell_type": "markdown",
   "metadata": {},
   "source": [
    "And like for functions, we can pass arguments to the object constructor and add them in the `__init__` function in the class:"
   ]
  },
  {
   "cell_type": "code",
   "execution_count": null,
   "metadata": {},
   "outputs": [],
   "source": [
    "class DoSomething:\n",
    "    def __init__(self, variabletext):\n",
    "        self.var = variabletext\n",
    "\n",
    "    def no_limit_on_number_of_functions(self):\n",
    "        self.number_of_functions = \"Infinite\"\n",
    "\n",
    "# Create an object including the variabletext\n",
    "my_object = DoSomething(\"This is the text for var\")\n",
    "\n",
    "# print out the variable\n",
    "print(my_object.var)\n",
    "\n",
    "# Print out a variable from another function\n",
    "# Call the function to create the variable\n",
    "my_object.no_limit_on_number_of_functions()\n",
    "\n",
    "# Now, print out the newly created variable\n",
    "print(my_object.number_of_functions)"
   ]
  },
  {
   "cell_type": "markdown",
   "metadata": {},
   "source": [
    "You can create an unlimited amount of objects too (use the template multiple times if you will)"
   ]
  },
  {
   "cell_type": "code",
   "execution_count": null,
   "metadata": {},
   "outputs": [],
   "source": [
    "class DoSomething:\n",
    "    def __init__(self, variabletext):\n",
    "        self.var = variabletext\n",
    "\n",
    "object1 = DoSomething(\"This is object number 1\")\n",
    "object2 = DoSomething(\"This is object number 2\")\n",
    "\n",
    "print(object1.var)\n",
    "print(object2.var)"
   ]
  },
  {
   "cell_type": "markdown",
   "metadata": {},
   "source": [
    "And we see that those objects are seperate from each other because the variables within them are different.\n",
    "\n",
    "You can create variables also within functions (local variables), but you can't really access them from the outside (from the object itself)."
   ]
  },
  {
   "cell_type": "code",
   "execution_count": null,
   "metadata": {},
   "outputs": [],
   "source": [
    "class counter_class:\n",
    "    def __init__(self, initial_value=0):  # Optional argument with default at 0\n",
    "        self.counter_var = initial_value\n",
    "    def increment(self, increment_value):\n",
    "        self.counter_var += increment_value\n",
    "        print(\"The counter has been incremented to \", self.counter_var)\n",
    "        return self.counter_var\n",
    "    def double_increment(self, increment_value):\n",
    "        multiplicator = 2  # this is a local variable\n",
    "        self.counter_var += multiplicator * increment_value\n",
    "        print(\"The counter has been incremented to \", self.counter_var)\n",
    "        return self.counter_var\n",
    "\n",
    "counter1 = counter_class()  # Starting from the default value 0\n",
    "counter2 = counter_class(3)  # Starting from 3\n",
    "\n",
    "counter1.increment(1)\n",
    "counter1.double_increment(3)\n",
    "\n",
    "print(\"Counter 1 is at: \", counter1.counter_var)\n",
    "\n",
    "counter2.counter_var = 10  # Can set counter var at specific values\n",
    "\n",
    "counter2.increment(1)\n",
    "counter2.increment(3)\n",
    "\n",
    "print(\"Counter 2 is at: \", counter2.counter_var)"
   ]
  },
  {
   "cell_type": "markdown",
   "metadata": {},
   "source": [
    "# 2: Downloading files\n",
    "## 2.1: http module\n",
    "\n",
    "This module is part of the Standard Library. This module allows you to download files from the Web. First, we need to import it."
   ]
  },
  {
   "cell_type": "code",
   "execution_count": null,
   "metadata": {},
   "outputs": [],
   "source": [
    "import http.client"
   ]
  },
  {
   "cell_type": "markdown",
   "metadata": {},
   "source": [
    "Good good. Now, with websites, it's worth noting how they work.\n",
    "\n",
    "1. Web broswer/http.client connects to the web server, so we have to create a connection\n",
    "1. Once we create a connection, we need to **GET** web page\n",
    "1. Once we get whatever we got, we need to check it. The response will contain a response code and possibly some content.\n",
    "\n",
    "   What's a response code? It's a number that represents the web server's response. We want 200 - that means we got what we want. If we, say, got a 404, that means the document requested has not been found on the web server. [There are a lot of codes made by the internet people](https://www.w3.org/Protocols/rfc2616/rfc2616-sec10.html), if you have absouly nothing else to do and are really bored - you can look at them.<br><br>\n",
    "   \n",
    "1. If we did get 200 as our response code, we have our data!\n",
    "\n",
    "Here's what that looks like in Python:"
   ]
  },
  {
   "cell_type": "code",
   "execution_count": null,
   "metadata": {},
   "outputs": [],
   "source": [
    "# We want to retrieve the sample page:\n",
    "#  https://raw.githubusercontent.com/mambelli/target-python-lesson3/master/example.html\n",
    "\n",
    "our_connection = http.client.HTTPSConnection(\"raw.githubusercontent.com\")  # The server is \"raw.githubusercontent.com\"\n",
    "# We have our connection to the host of sites.google.com\n",
    "\n",
    "our_connection.request(\"GET\", \"/mambelli/target-python-lesson3/master/example.html\")  # Let's get the course page which is /mambelli/target-python-lesson3/master/example.html\n",
    "\n",
    "# Okay, well, did we get the data?\n",
    "our_response = our_connection.getresponse()\n",
    "\n",
    "print(our_response.status)\n",
    "\n",
    "if (our_response.status != 200):\n",
    "    print(\":/ \"+our_response.reason)\n",
    "    # exit()  # will kill the kernel - avoid using it\n",
    "else:\n",
    "    print(\"We are \"+our_response.reason)"
   ]
  },
  {
   "cell_type": "markdown",
   "metadata": {},
   "source": [
    "We got it! (Assuming it says 200 up there). Now, let's `read()` our data."
   ]
  },
  {
   "cell_type": "code",
   "execution_count": null,
   "metadata": {},
   "outputs": [],
   "source": [
    "our_data = our_response.read()\n",
    "print(our_data)"
   ]
  },
  {
   "cell_type": "markdown",
   "metadata": {},
   "source": [
    "That's it (in html). But why does it have a `b'` at the beginning? That's not part of the html. It's because the data we got sent is in bytes. Web protocols transfer text files like html in bytes, using 8-bit for each character. Python v3 (that's what we're using) uses UTF-8. Let's get our data in a way that Python can more easily understand it.\n",
    "\n",
    "From the Python documentation,\n",
    "\n",
    "> Bytes literals are always prefixed with 'b' or 'B' when printed in Python; they produce an instance of the bytes type instead of the str type. They may only contain ASCII characters; bytes with a numeric value of 128 or greater must be expressed with escape sequences to be represented correctly."
   ]
  },
  {
   "cell_type": "code",
   "execution_count": null,
   "metadata": {},
   "outputs": [],
   "source": [
    "our_data = our_data.decode(\"utf-8\")"
   ]
  },
  {
   "cell_type": "markdown",
   "metadata": {},
   "source": [
    "Okay, now let's process parts of it. See above that some parts say `<a href=...`? That's a link. Let's use another python library to parse the html and count the number of links. Let's create a new class based off of the HTMLParser class.\n",
    "\n",
    "Create a new class based off of the HTMLParser class? Is that even possible? Yes! It's called class inheritence. Right now there is an HTMLParser class. It can parse HTML, and that's about it. We need it to perform some actions while its parsing the HTML, which it currently is **not** set to do. For example, when it see's the start of an `a` tag, we need to see if its an `a` tag and count how many times that happens. What we can do is create a new class and import another class while creating the new class. What will happen is, that class will have everything the other class has, and we can add onto that class or redefine some variables/methods it has.\n",
    "\n",
    "So, let's create a new class called `MyHTMLParser` and in the paramters of the class, pass the inherited class `HTMLParser`. Next, we can take a method of the `HTMLParser` class called `handle_starttag()` and redefine it here. When the class looks for a `handle_starttag()` method, it'll now use the method we defined instead of using it's old method it had."
   ]
  },
  {
   "cell_type": "code",
   "execution_count": null,
   "metadata": {},
   "outputs": [],
   "source": [
    "from html.parser import HTMLParser\n",
    "\n",
    "class MyHTMLParser(HTMLParser):\n",
    "    def __init__(self):\n",
    "        super().__init__()  # Initializes the parent class, HTMLParser\n",
    "        self.a_links_counter = 0\n",
    "    def handle_starttag(self, tag, attrs):\n",
    "        if (tag == 'a'):\n",
    "            self.a_links_counter += 1"
   ]
  },
  {
   "cell_type": "code",
   "execution_count": null,
   "metadata": {},
   "outputs": [],
   "source": [
    "parser = MyHTMLParser() # Create our object\n",
    "parser.feed(our_data) # Send that to our object - feed() is a method that is included from the HTMLParser.\n",
    "# When the MyHTMLParser class doesn't find it within it's class, it'll go up to the HTMLParser class and find it\n",
    "\n",
    "print('There are '+str(parser.a_links_counter)+' links.')"
   ]
  },
  {
   "cell_type": "markdown",
   "metadata": {},
   "source": [
    "Now let's repeat the link count for the course main page: https://sites.google.com/view/targetpython/"
   ]
  },
  {
   "cell_type": "code",
   "execution_count": null,
   "metadata": {},
   "outputs": [],
   "source": [
    "# Connect and parse https://sites.google.com/view/targetpython/\n",
    "our_connection = http.client.HTTPSConnection(\"sites.google.com\")\n",
    "our_connection.request(\"GET\", \"/view/targetpython/\")\n",
    "our_response = our_connection.getresponse()\n",
    "if (our_response.status != 200):\n",
    "    print(\"Error retrieving page!  :/ \"+our_response.reason)\n",
    "else:\n",
    "    # Received a correct response\n",
    "    our_data = our_response.read().decode(\"utf-8\")\n",
    "    # Using the MyHTMLParser definef above count the links and print the result\n",
    "    parser = MyHTMLParser()  # Create our object\n",
    "    parser.feed(our_data)  # Parse the document\n",
    "    print(f\"The document size is: {len (our_data)}\")\n",
    "    print(f\"There are {parser.a_links_counter} links.\")"
   ]
  },
  {
   "cell_type": "markdown",
   "metadata": {},
   "source": [
    "# 3: Matplotlib (3D)\n",
    "\n",
    "## 3.1: Plot 3D Points\n",
    "\n",
    "Some types of plots require three dimensions. Luckily instead of learning yet another module, we can stick to good old Matplotlib, which has extensions to add 3D support. Below we're going to go over a few simple examples of how one would go about plotting in 3D.\n",
    "\n",
    "First, we may need to install `matplotlib` and `ipympl`. Most likely they are already available, adding it here just in case.\n",
    "\n",
    "Then we need to import Matplotlib. We also have to import a library that will provide 3D support for Matplotlib. Then, we'll create a figure and add a plot that is a 3D image (`projection='3d'`). Don't worry too much about that, just know to start a basic 3D figure, use those two lines to get started.\n",
    "\n",
    "> **NOTE matplotlib backends**: Matplotlib can use different backends to show your plots. Here we are using `inline` (`%matplotlib inline`)which is the most portable but also provides less features. You basically have to redefine from scratch the figure with the plot all the times.  `%matplotlib notebook` would allow more features, like having one plot and updating its content or interactions with the plot, but not all Notebook platforms support that.\n",
    "> Interactive Python users can also use `%matplotlib widget`.\n",
    "> For more info about backends, see [mpl](https://matplotlib.org/stable/users/explain/backends.html) and [mpl-interactions](https://mpl-interactions.readthedocs.io/en/stable/backends.html) documentation."
   ]
  },
  {
   "cell_type": "code",
   "execution_count": null,
   "metadata": {},
   "outputs": [],
   "source": [
    "# Make sure these are installed\n",
    "!pip install matplotlib\n",
    "!pip install ipympl"
   ]
  },
  {
   "cell_type": "code",
   "execution_count": null,
   "metadata": {},
   "outputs": [],
   "source": [
    "%matplotlib inline\n",
    "\n",
    "import matplotlib.pyplot as plt\n",
    "from mpl_toolkits.mplot3d import Axes3D\n",
    "\n",
    "fig = plt.figure()\n",
    "ax = fig.add_subplot(111, projection='3d')"
   ]
  },
  {
   "cell_type": "markdown",
   "metadata": {},
   "source": [
    "Now, let's add some basic data, just points for now,"
   ]
  },
  {
   "cell_type": "code",
   "execution_count": null,
   "metadata": {},
   "outputs": [],
   "source": [
    "fig = plt.figure()\n",
    "ax = fig.add_subplot(111, projection='3d')\n",
    "ax.scatter([1,2,1],[2,3,2],[3,3,1])"
   ]
  },
  {
   "cell_type": "markdown",
   "metadata": {},
   "source": [
    "And, just for reference, we'll add some labels on each axes,"
   ]
  },
  {
   "cell_type": "code",
   "execution_count": null,
   "metadata": {},
   "outputs": [],
   "source": [
    "fig = plt.figure()\n",
    "ax = fig.add_subplot(111, projection='3d')\n",
    "ax.scatter([1,2,1],[2,3,2],[3,3,1])\n",
    "ax.set_xlabel('X Label')\n",
    "ax.set_ylabel('Y Label')\n",
    "ax.set_zlabel('Z Label')"
   ]
  },
  {
   "cell_type": "markdown",
   "metadata": {},
   "source": [
    "There we go, you can change up the points but make sure you rerun the cell that has `plt.clf()` so that the plot gets reset.\n",
    "\n",
    "## 3.2: Surface Plots\n",
    "\n",
    "Okay, let's do something more advanced, let's create a surface plot. To do this, we're going to use Numpy that will let us easily create a lot of data. First, let's start with creating a 3D plot to work with, like we did in the previous example."
   ]
  },
  {
   "cell_type": "code",
   "execution_count": null,
   "metadata": {},
   "outputs": [],
   "source": [
    "from mpl_toolkits.mplot3d import Axes3D\n",
    "import matplotlib.pyplot as plt\n",
    "import numpy as np\n",
    "\n",
    "fig2 = plt.figure()\n",
    "ax2 = fig2.add_subplot(111, projection='3d')"
   ]
  },
  {
   "cell_type": "markdown",
   "metadata": {},
   "source": [
    "Now, we need to create some data."
   ]
  },
  {
   "cell_type": "code",
   "execution_count": null,
   "metadata": {},
   "outputs": [],
   "source": [
    "# Create a lot of points from -1 to 1 with a step of 0.05\n",
    "X = np.arange(-1.0, 1.0, 0.05)\n",
    "Y = np.arange(-1.0, 1.0, 0.05)\n",
    "# This will take X and Y and return coordinate matrices for the surface plot to work with\n",
    "X, Y = np.meshgrid(X, Y)\n",
    "# For Z, Take the square root of (X^2 + Y^2)\n",
    "Z = np.sqrt(X**2 + Y**2)"
   ]
  },
  {
   "cell_type": "markdown",
   "metadata": {},
   "source": [
    "Let's plot and show the figure,"
   ]
  },
  {
   "cell_type": "code",
   "execution_count": null,
   "metadata": {},
   "outputs": [],
   "source": [
    "fig2 = plt.figure()\n",
    "ax2 = fig2.add_subplot(111, projection='3d')\n",
    "# Plot it with this function\n",
    "ax2.plot_surface(X, Y, Z)\n",
    "# Add some labels\n",
    "ax2.set_xlabel('X Label')\n",
    "ax2.set_ylabel('Y Label')\n",
    "ax2.set_zlabel('Z Label')"
   ]
  },
  {
   "cell_type": "markdown",
   "metadata": {},
   "source": [
    "# Done\n",
    "Your good to go onto the challenges assuming you have no questions."
   ]
  }
 ],
 "metadata": {
  "language_info": {
   "name": "python",
   "pygments_lexer": "ipython3"
  }
 },
 "nbformat": 4,
 "nbformat_minor": 0
}
