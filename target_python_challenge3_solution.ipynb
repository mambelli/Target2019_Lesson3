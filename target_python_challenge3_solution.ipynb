{
 "cells": [
  {
   "metadata": {},
   "cell_type": "markdown",
   "source": "# Part 3 Challenges\n\n## Challenge 3.1\n\n### Objective\n\nCreate a class that has a method that can convert a roman numeral to an integer and create another method that can take an integer and turn it into a roman numeral. You may not import any modules.\n\n### Hints\n\n- Look how to take strings and splice them\n\n### Solution\n\nWrite below your solution.\nHere an example of how objects of the class could work.\n\n```\nmy_object = roman()\n\nprint(my_object.int2roman(7))\nVII\n\nprint(my_object.roman2int(IX))\n9\n```"
  },
  {
   "metadata": {},
   "cell_type": "code",
   "source": "print('Solution to Challenge 1 goes here')",
   "execution_count": null,
   "outputs": []
  },
  {
   "metadata": {},
   "cell_type": "markdown",
   "source": "## Challenge 3.2\n\n### Objective\n\nCount how many words are in the web page `https://www.python.org/about/gettingstarted/`. Look specifically in the `<p></p>` tag and count the words in there. A word is any text/numbers/whatever is separated by a space, so the text, \"`Installing Python is generally easy, and nowadays`\" there are 7 words.\n\n### Hints\n\n- Use the `http.client` module to get the web page\n- Remember to convert to UTF-8\n- Use the parser if you want to get all the paragraph tags\n\n### Solution\n\nWrite below your solution."
  },
  {
   "metadata": {},
   "cell_type": "code",
   "source": "print('Solution to Challenge 2 goes here')",
   "execution_count": null,
   "outputs": []
  },
  {
   "metadata": {},
   "cell_type": "markdown",
   "source": "## Challenge 3.3\n\n### Objective\n\nCreate a 3D Matplotlib Surface Plot where,\n\n- X axis goes from -1 to 1 with a step of .1\n- Y axis is the absolute value of X\n- Z axis is the modulus of X to Y\n\n### Hints\n\n- Use numpy functions for mathematical operations\n- Most of the work has already been done in the Lesson\n- For the modulus function, first parameter is X, second parameter is Y\n\n### Solution\n\nWrite below your solution.\nThe resulting plot should be similar to the one depicted here\n\n![Graph Image Solution](https://i.imgur.com/qlIGnL1.png)"
  },
  {
   "metadata": {},
   "cell_type": "code",
   "source": "print('Solution to Challenge 3 goes here')",
   "execution_count": null,
   "outputs": []
  }
 ],
 "metadata": {
  "language_info": {
   "name": "python",
   "pygments_lexer": "ipython3"
  }
 },
 "nbformat": 4,
 "nbformat_minor": 2
}
